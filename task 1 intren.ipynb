{
 "cells": [
  {
   "cell_type": "code",
   "execution_count": 1,
   "id": "704fc118",
   "metadata": {},
   "outputs": [],
   "source": [
    "import pandas as pd\n",
    "import matplotlib.pyplot as plt\n",
    "import seaborn as sns"
   ]
  },
  {
   "cell_type": "code",
   "execution_count": 2,
   "id": "2f88cd20",
   "metadata": {},
   "outputs": [
    {
     "data": {
      "text/html": [
       "<div>\n",
       "<style scoped>\n",
       "    .dataframe tbody tr th:only-of-type {\n",
       "        vertical-align: middle;\n",
       "    }\n",
       "\n",
       "    .dataframe tbody tr th {\n",
       "        vertical-align: top;\n",
       "    }\n",
       "\n",
       "    .dataframe thead th {\n",
       "        text-align: right;\n",
       "    }\n",
       "</style>\n",
       "<table border=\"1\" class=\"dataframe\">\n",
       "  <thead>\n",
       "    <tr style=\"text-align: right;\">\n",
       "      <th></th>\n",
       "      <th>index</th>\n",
       "      <th>Country</th>\n",
       "      <th>Population</th>\n",
       "      <th>Yearly % Change</th>\n",
       "      <th>Net Change</th>\n",
       "      <th>Density</th>\n",
       "      <th>Land Area</th>\n",
       "      <th>Migrants (net)</th>\n",
       "      <th>Fert. Rate</th>\n",
       "      <th>Med. Age</th>\n",
       "      <th>Urb Pop (%)</th>\n",
       "      <th>World Share (%)</th>\n",
       "    </tr>\n",
       "  </thead>\n",
       "  <tbody>\n",
       "    <tr>\n",
       "      <th>0</th>\n",
       "      <td>1</td>\n",
       "      <td>China</td>\n",
       "      <td>1,43,93,23,776</td>\n",
       "      <td>0.39</td>\n",
       "      <td>55,40,090</td>\n",
       "      <td>153</td>\n",
       "      <td>93,88,211</td>\n",
       "      <td>-3,48,399</td>\n",
       "      <td>1.7</td>\n",
       "      <td>38.0</td>\n",
       "      <td>61.0</td>\n",
       "      <td>18.47</td>\n",
       "    </tr>\n",
       "    <tr>\n",
       "      <th>1</th>\n",
       "      <td>2</td>\n",
       "      <td>India</td>\n",
       "      <td>1,38,00,04,385</td>\n",
       "      <td>0.99</td>\n",
       "      <td>1,35,86,631</td>\n",
       "      <td>464</td>\n",
       "      <td>29,73,190</td>\n",
       "      <td>-5,32,687</td>\n",
       "      <td>2.2</td>\n",
       "      <td>28.0</td>\n",
       "      <td>35.0</td>\n",
       "      <td>17.70</td>\n",
       "    </tr>\n",
       "    <tr>\n",
       "      <th>2</th>\n",
       "      <td>3</td>\n",
       "      <td>United States</td>\n",
       "      <td>33,10,02,651</td>\n",
       "      <td>0.59</td>\n",
       "      <td>19,37,734</td>\n",
       "      <td>36</td>\n",
       "      <td>91,47,420</td>\n",
       "      <td>9,54,806</td>\n",
       "      <td>1.8</td>\n",
       "      <td>38.0</td>\n",
       "      <td>83.0</td>\n",
       "      <td>4.25</td>\n",
       "    </tr>\n",
       "    <tr>\n",
       "      <th>3</th>\n",
       "      <td>4</td>\n",
       "      <td>Indonesia</td>\n",
       "      <td>27,35,23,615</td>\n",
       "      <td>1.07</td>\n",
       "      <td>28,98,047</td>\n",
       "      <td>151</td>\n",
       "      <td>18,11,570</td>\n",
       "      <td>-98,955</td>\n",
       "      <td>2.3</td>\n",
       "      <td>30.0</td>\n",
       "      <td>56.0</td>\n",
       "      <td>3.51</td>\n",
       "    </tr>\n",
       "    <tr>\n",
       "      <th>4</th>\n",
       "      <td>5</td>\n",
       "      <td>Pakistan</td>\n",
       "      <td>22,08,92,340</td>\n",
       "      <td>2.00</td>\n",
       "      <td>43,27,022</td>\n",
       "      <td>287</td>\n",
       "      <td>7,70,880</td>\n",
       "      <td>-2,33,379</td>\n",
       "      <td>3.6</td>\n",
       "      <td>23.0</td>\n",
       "      <td>35.0</td>\n",
       "      <td>2.83</td>\n",
       "    </tr>\n",
       "  </tbody>\n",
       "</table>\n",
       "</div>"
      ],
      "text/plain": [
       "   index        Country      Population  Yearly % Change   Net Change Density  \\\n",
       "0      1          China  1,43,93,23,776             0.39    55,40,090     153   \n",
       "1      2          India  1,38,00,04,385             0.99  1,35,86,631     464   \n",
       "2      3  United States    33,10,02,651             0.59    19,37,734      36   \n",
       "3      4      Indonesia    27,35,23,615             1.07    28,98,047     151   \n",
       "4      5       Pakistan    22,08,92,340             2.00    43,27,022     287   \n",
       "\n",
       "   Land Area Migrants (net)  Fert. Rate  Med. Age  Urb Pop (%)  \\\n",
       "0  93,88,211      -3,48,399         1.7      38.0         61.0   \n",
       "1  29,73,190      -5,32,687         2.2      28.0         35.0   \n",
       "2  91,47,420       9,54,806         1.8      38.0         83.0   \n",
       "3  18,11,570        -98,955         2.3      30.0         56.0   \n",
       "4   7,70,880      -2,33,379         3.6      23.0         35.0   \n",
       "\n",
       "   World Share (%)  \n",
       "0            18.47  \n",
       "1            17.70  \n",
       "2             4.25  \n",
       "3             3.51  \n",
       "4             2.83  "
      ]
     },
     "execution_count": 2,
     "metadata": {},
     "output_type": "execute_result"
    }
   ],
   "source": [
    "# Load the data\n",
    "df = pd.read_csv(r'C:\\Users\\DELL\\Desktop\\intern\\task 1\\world_population_by_countries.csv')\n",
    "df.head()"
   ]
  },
  {
   "cell_type": "code",
   "execution_count": 3,
   "id": "76981953",
   "metadata": {},
   "outputs": [],
   "source": [
    "# Remove commas from Population and convert to integers\n",
    "df['Population'] = df['Population'].replace({',': ''}, regex=True).astype(int)"
   ]
  },
  {
   "cell_type": "code",
   "execution_count": 4,
   "id": "13adf1f8",
   "metadata": {},
   "outputs": [],
   "source": [
    "# Convert Med. Age to numeric and drop rows with missing values\n",
    "df['Med. Age'] = pd.to_numeric(df['Med. Age'], errors='coerce')\n",
    "df = df.dropna(subset=['Population', 'Med. Age'])"
   ]
  },
  {
   "cell_type": "code",
   "execution_count": 5,
   "id": "e838a500",
   "metadata": {},
   "outputs": [
    {
     "name": "stdout",
     "output_type": "stream",
     "text": [
      "   index        Country  Population  Yearly % Change   Net Change Density  \\\n",
      "0      1          China  1439323776             0.39    55,40,090     153   \n",
      "1      2          India  1380004385             0.99  1,35,86,631     464   \n",
      "2      3  United States   331002651             0.59    19,37,734      36   \n",
      "3      4      Indonesia   273523615             1.07    28,98,047     151   \n",
      "4      5       Pakistan   220892340             2.00    43,27,022     287   \n",
      "\n",
      "   Land Area Migrants (net)  Fert. Rate  Med. Age  Urb Pop (%)  \\\n",
      "0  93,88,211      -3,48,399         1.7      38.0         61.0   \n",
      "1  29,73,190      -5,32,687         2.2      28.0         35.0   \n",
      "2  91,47,420       9,54,806         1.8      38.0         83.0   \n",
      "3  18,11,570        -98,955         2.3      30.0         56.0   \n",
      "4   7,70,880      -2,33,379         3.6      23.0         35.0   \n",
      "\n",
      "   World Share (%)  \n",
      "0            18.47  \n",
      "1            17.70  \n",
      "2             4.25  \n",
      "3             3.51  \n",
      "4             2.83  \n"
     ]
    }
   ],
   "source": [
    "# Check the cleaned data\n",
    "print(df.head())"
   ]
  },
  {
   "cell_type": "code",
   "execution_count": 6,
   "id": "71fcc737",
   "metadata": {},
   "outputs": [
    {
     "data": {
      "image/png": "[encoded data removed]",
      "text/plain": [
       "<Figure size 1200x800 with 1 Axes>"
      ]
     },
     "metadata": {},
     "output_type": "display_data"
    }
   ],
   "source": [
    "bins = [0, 10, 20, 30, 40, 50, 60, 70, 80, 90, 100]\n",
    "labels = ['0-10', '11-20', '21-30', '31-40', '41-50', '51-60', '61-70', '71-80', '81-90', '91-100']\n",
    "# Create a new column 'Age_Group' with age categories\n",
    "df['Age_Group'] = pd.cut(df['Med. Age'], bins=bins, labels=labels, right=False)\n",
    "# Group by 'Age_Group' and calculate the sum or mean of 'Population'\n",
    "df_grouped = df.groupby('Age_Group', as_index=False)['Population'].sum()  \n",
    "\n",
    "plt.figure(figsize=(12, 8))\n",
    "sns.barplot(x='Age_Group', y='Population', data=df_grouped)\n",
    "\n",
    "plt.xlabel('Age')\n",
    "plt.ylabel('population')\n",
    "plt.title('Population and age group')\n",
    "plt.show()"
   ]
  },
  {
   "cell_type": "code",
   "execution_count": null,
   "id": "8ea80398",
   "metadata": {},
   "outputs": [],
   "source": []
  },
  {
   "cell_type": "code",
   "execution_count": null,
   "id": "ee51b43b",
   "metadata": {},
   "outputs": [],
   "source": []
  },
  {
   "cell_type": "code",
   "execution_count": null,
   "id": "2be54d2b",
   "metadata": {},
   "outputs": [],
   "source": []
  },
  {
   "cell_type": "code",
   "execution_count": null,
   "id": "c940853e",
   "metadata": {},
   "outputs": [],
   "source": []
  },
  {
   "cell_type": "code",
   "execution_count": null,
   "id": "fefb7189",
   "metadata": {},
   "outputs": [],
   "source": []
  }
 ],
 "metadata": {
  "kernelspec": {
   "display_name": "Python 3 (ipykernel)",
   "language": "python",
   "name": "python3"
  },
  "language_info": {
   "codemirror_mode": {
    "name": "ipython",
    "version": 3
   },
   "file_extension": ".py",
   "mimetype": "text/x-python",
   "name": "python",
   "nbconvert_exporter": "python",
   "pygments_lexer": "ipython3",
   "version": "3.11.4"
  }
 },
 "nbformat": 4,
 "nbformat_minor": 5
}
